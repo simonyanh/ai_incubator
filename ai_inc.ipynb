{
 "cells": [
  {
   "cell_type": "code",
   "execution_count": null,
   "id": "9ec6b5d1",
   "metadata": {},
   "outputs": [],
   "source": [
    "import pandas as pd\n",
    "import numpy as np\n",
    "import matplotlib.pyplot as plt\n",
    "import seaborn as sns\n",
    "\n",
    "'''The maximum user numbers are 5000, but i need 10k, so I'm going to load 2 datasets and concatinate them.\n",
    "I am using \"seed=\" parameter to generate the same dataset each time'''\n",
    "\n",
    "df1 = pd.read_csv('https://randomuser.me/api/?format=csv&results=5000&seed=16')\n",
    "df2 = pd.read_csv('https://randomuser.me/api/?format=csv&results=5000&seed=27')\n",
    "df = pd.concat([df1, df2], ignore_index=True)\n",
    "# df.to_csv('aiincubator.csv', index=False)  # optional. Just for safety\n"
   ]
  },
  {
   "cell_type": "code",
   "execution_count": null,
   "id": "93ab8bd7",
   "metadata": {},
   "outputs": [],
   "source": [
    "df.info()"
   ]
  },
  {
   "cell_type": "code",
   "execution_count": null,
   "id": "5246ffad",
   "metadata": {},
   "outputs": [],
   "source": [
    "'''my favorite way to get a little bit deeper information about dataset values'''\n",
    "for col in df.columns:\n",
    "    if 'picture' not in col:\n",
    "        print('{} : {}'.format(col, df[col].unique()))"
   ]
  },
  {
   "cell_type": "code",
   "execution_count": null,
   "id": "1af89cbd",
   "metadata": {},
   "outputs": [],
   "source": [
    "'''I have 2 columns with the missing values, but i am not going to use them while performing EDA,\n",
    "so i have decided just to fill them with \"bfill\" method'''\n",
    "\n",
    "num_col = ['id.name', 'id.value']\n",
    "for col in num_col:\n",
    "    df[col].fillna(method='bfill', inplace=True)"
   ]
  },
  {
   "cell_type": "code",
   "execution_count": null,
   "id": "be57909d",
   "metadata": {},
   "outputs": [],
   "source": [
    "'''Checking duplicates'''\n",
    "df.duplicated().sum()"
   ]
  },
  {
   "cell_type": "code",
   "execution_count": null,
   "id": "85c7c606",
   "metadata": {},
   "outputs": [],
   "source": [
    "plt.figure(figsize=(8,8))\n",
    "sns.heatmap(df.corr(),cbar=True,annot=True,cmap='Blues')\n",
    "'''oops! zero correlations :/'''"
   ]
  },
  {
   "cell_type": "code",
   "execution_count": null,
   "id": "6075461d",
   "metadata": {},
   "outputs": [],
   "source": [
    "'''unfortunately there are not any correlations beetwen our variables.\n",
    "Lets find the main groups of users by gender, age and country/nationality'''\n",
    "grp = df.groupby(['location.country'])\n",
    "grp.agg({'dob.age': ['min', 'mean', 'max', 'count'],'registered.age': ['min', 'mean', 'max']})"
   ]
  },
  {
   "cell_type": "code",
   "execution_count": null,
   "id": "3ec7d25c",
   "metadata": {},
   "outputs": [],
   "source": [
    "'''as we can see above there is no any country with the big difference of a number of users (perhaps Ireland). \n",
    "The ages and the usage durations are the same as well for each contry.\n",
    "Lets draw a barplot and check users nationality including their genders'''"
   ]
  },
  {
   "cell_type": "code",
   "execution_count": null,
   "id": "099214f1",
   "metadata": {},
   "outputs": [],
   "source": [
    "plt.figure(figsize=(8,8))\n",
    "sns.countplot(x='nat',hue = 'gender', data=df)"
   ]
  },
  {
   "cell_type": "code",
   "execution_count": null,
   "id": "f5bf281c",
   "metadata": {},
   "outputs": [],
   "source": [
    "'''the same story here. The users are distributed equally by genders and countries/nationalities. \n",
    "but what if we have a main group by the users age range? hope this time I will be luckier'''\n",
    "\n",
    "sns.histplot(df['dob.age'],bins=10)"
   ]
  },
  {
   "cell_type": "code",
   "execution_count": null,
   "id": "26d6fed7",
   "metadata": {},
   "outputs": [],
   "source": [
    "sns.boxplot(x='dob.age',y='gender',data=df)"
   ]
  },
  {
   "cell_type": "markdown",
   "id": "17290319",
   "metadata": {},
   "source": [
    "### Conclusion:\n",
    "##### As the dataset was generated randomly with 10k users, and the possibilityes for an each value are the same,\n",
    "##### we were unable to find any categorical group with the most/less number of users. We have also observed that all variables are independent.\n",
    "##### "
   ]
  },
  {
   "cell_type": "code",
   "execution_count": null,
   "id": "c84b8864",
   "metadata": {},
   "outputs": [],
   "source": [
    "'''P. S.'''\n",
    "print(df['name.first'].value_counts())\n",
    "print(df['name.last'].value_counts())\n",
    "\n",
    "'''I have nothing left to do, but add, that \n",
    "the most common first name is \"Emma\". Most common last name is \"Walker\" :) '''\n"
   ]
  }
 ],
 "metadata": {
  "kernelspec": {
   "display_name": "Python 3 (ipykernel)",
   "language": "python",
   "name": "python3"
  },
  "language_info": {
   "codemirror_mode": {
    "name": "ipython",
    "version": 3
   },
   "file_extension": ".py",
   "mimetype": "text/x-python",
   "name": "python",
   "nbconvert_exporter": "python",
   "pygments_lexer": "ipython3",
   "version": "3.9.8"
  }
 },
 "nbformat": 4,
 "nbformat_minor": 5
}
